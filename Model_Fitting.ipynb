{
  "nbformat": 4,
  "nbformat_minor": 0,
  "metadata": {
    "colab": {
      "provenance": [],
      "include_colab_link": true
    },
    "kernelspec": {
      "name": "python3",
      "display_name": "Python 3"
    },
    "language_info": {
      "name": "python"
    }
  },
  "cells": [
    {
      "cell_type": "markdown",
      "metadata": {
        "id": "view-in-github",
        "colab_type": "text"
      },
      "source": [
        "<a href=\"https://colab.research.google.com/github/muckitymuck/model_fitting/blob/main/Model_Fitting.ipynb\" target=\"_parent\"><img src=\"https://colab.research.google.com/assets/colab-badge.svg\" alt=\"Open In Colab\"/></a>"
      ]
    },
    {
      "cell_type": "markdown",
      "source": [
        "#Setup"
      ],
      "metadata": {
        "id": "0IUjBtY8WXVe"
      }
    },
    {
      "cell_type": "code",
      "source": [
        "import statsmodels.api as sm\n",
        "import pandas as pd\n",
        "from sklearn.model_selection import train_test_split\n",
        "import numpy as np\n",
        "from sklearn.metrics import confusion_matrix"
      ],
      "metadata": {
        "id": "Ycz1BN8hhLoh"
      },
      "execution_count": null,
      "outputs": []
    },
    {
      "cell_type": "code",
      "execution_count": null,
      "metadata": {
        "id": "MMkF39J2g0JV"
      },
      "outputs": [],
      "source": [
        "#Read in data, need to tab seperapte since content_string has commas in it\n",
        "data1 = pd.read_csv(\"RC-ML-MODEL-DATA.txt\", sep = \"\\t\", encoding = 'ISO-8859-1')\n",
        "data2 = pd.read_csv(\"RC-ML-MODEL-DATA-02.txt\", sep = \"\\t\", encoding = 'ISO-8859-1')\n",
        "tickets = pd.concat([data1,data2])"
      ]
    },
    {
      "cell_type": "code",
      "source": [
        "#drop a bunch of columns that would be made after the identification and resolution ratings\n",
        "cols_to_select = list(range(1, 21))\n",
        "tickets = tickets.iloc[:, cols_to_select]"
      ],
      "metadata": {
        "id": "nd0v3_AjY1-B"
      },
      "execution_count": null,
      "outputs": []
    },
    {
      "cell_type": "code",
      "source": [
        "# one-hot encode note aggregations and content_keyword string\n",
        "tickets[['note_aggregation_level1', 'note_aggregation_level2', 'content_keyword_string']] = tickets[['note_aggregation_level1', 'note_aggregation_level2', 'content_keyword_string']].apply(lambda x: x.str.replace(' ', '').str.split('+'))\n",
        "for i in ['note_aggregation_level1', 'note_aggregation_level2', 'content_keyword_string']:\n",
        "  one_hot = pd.get_dummies(tickets[i].apply(pd.Series).stack()).sum(level=0)\n",
        "  tickets = pd.concat([tickets, one_hot], axis=1)\n",
        "tickets.drop(columns = ['note_aggregation_level1', 'note_aggregation_level2', 'content_keyword_string'], inplace=True)"
      ],
      "metadata": {
        "id": "gsj77re-ZWdU",
        "colab": {
          "base_uri": "https://localhost:8080/"
        },
        "outputId": "9e4ea4c9-fca4-4d36-f8e5-a1b5ae653674"
      },
      "execution_count": null,
      "outputs": [
        {
          "output_type": "stream",
          "name": "stderr",
          "text": [
            "<ipython-input-8-b7abb367210c>:4: FutureWarning: Using the level keyword in DataFrame and Series aggregations is deprecated and will be removed in a future version. Use groupby instead. df.sum(level=1) should use df.groupby(level=1).sum().\n",
            "  one_hot = pd.get_dummies(tickets[i].apply(pd.Series).stack()).sum(level=0)\n",
            "<ipython-input-8-b7abb367210c>:4: FutureWarning: Using the level keyword in DataFrame and Series aggregations is deprecated and will be removed in a future version. Use groupby instead. df.sum(level=1) should use df.groupby(level=1).sum().\n",
            "  one_hot = pd.get_dummies(tickets[i].apply(pd.Series).stack()).sum(level=0)\n",
            "<ipython-input-8-b7abb367210c>:4: FutureWarning: Using the level keyword in DataFrame and Series aggregations is deprecated and will be removed in a future version. Use groupby instead. df.sum(level=1) should use df.groupby(level=1).sum().\n",
            "  one_hot = pd.get_dummies(tickets[i].apply(pd.Series).stack()).sum(level=0)\n"
          ]
        }
      ]
    },
    {
      "cell_type": "code",
      "source": [
        "#get data ready for models\n",
        "X = tickets.drop(['problem_rating_identifitication', 'problem_rating_resolution', 'content_string', 'category_id', 'category', 'user_id', 'created_on', 'created_year', 'created_month', 'created_day', 'created_dayname',\n",
        "                  'language', 'sentiment', 'note', 'response_first'], axis =1)\n",
        "#If content_keyword_string or note_aggregation_level1 or note_aggregation_level2 is null then zero for all categories\n",
        "X = X.fillna(0).astype('int')\n",
        "Y = tickets[['problem_rating_identifitication', 'problem_rating_resolution']]"
      ],
      "metadata": {
        "id": "vM7tRBpF3lY1"
      },
      "execution_count": null,
      "outputs": []
    },
    {
      "cell_type": "code",
      "source": [
        "#train test split\n",
        "X_train, X_test, Y_train, Y_test = train_test_split(X, Y, test_size=0.2, random_state=42)"
      ],
      "metadata": {
        "id": "WHODyKBtvDep"
      },
      "execution_count": null,
      "outputs": []
    },
    {
      "cell_type": "code",
      "source": [
        "# Check shapes of X_train and Y_train\n",
        "print(X_train.shape)  # Output: (num_samples, num_features)\n",
        "print(Y_train['problem_rating_identifitication'].shape)  # Output: (num_samples,)"
      ],
      "metadata": {
        "colab": {
          "base_uri": "https://localhost:8080/"
        },
        "id": "7NwEHYiegH6Q",
        "outputId": "132ddffe-186b-4bbf-ea77-da15452455e0"
      },
      "execution_count": null,
      "outputs": [
        {
          "output_type": "stream",
          "name": "stdout",
          "text": [
            "(15008, 50)\n",
            "(15008,)\n"
          ]
        }
      ]
    },
    {
      "cell_type": "markdown",
      "source": [
        "#Logit"
      ],
      "metadata": {
        "id": "vw3UYeUlWab9"
      }
    },
    {
      "cell_type": "code",
      "source": [
        "from statsmodels.miscmodels.ordinal_model import OrderedModel"
      ],
      "metadata": {
        "id": "StyKYYw999GP"
      },
      "execution_count": null,
      "outputs": []
    },
    {
      "cell_type": "markdown",
      "source": [
        "## ID"
      ],
      "metadata": {
        "id": "08QVnUzZWbp-"
      }
    },
    {
      "cell_type": "code",
      "source": [
        "#fit model\n",
        "ID_mod = OrderedModel(Y_train['problem_rating_identifitication'],X_train, dist = 'logit')\n",
        "ID_prob = ID_mod.fit(method='bfgs')"
      ],
      "metadata": {
        "id": "VVYQVlbgu3SO",
        "colab": {
          "base_uri": "https://localhost:8080/"
        },
        "outputId": "bd39f324-4598-41a6-bfc1-60f594b513e0"
      },
      "execution_count": null,
      "outputs": [
        {
          "output_type": "stream",
          "name": "stdout",
          "text": [
            "Optimization terminated successfully.\n",
            "         Current function value: 0.644586\n",
            "         Iterations: 272\n",
            "         Function evaluations: 278\n",
            "         Gradient evaluations: 278\n"
          ]
        }
      ]
    },
    {
      "cell_type": "code",
      "source": [
        "#test model\n",
        "ID_test = ID_mod.predict(ID_prob.params, exog = X_test)\n",
        "#go from probabilities to prediction\n",
        "ID_class =  np.argmax(ID_test, axis=1)"
      ],
      "metadata": {
        "id": "XEg7gBMz6Epq",
        "colab": {
          "base_uri": "https://localhost:8080/"
        },
        "outputId": "68c15a14-7958-45b7-d621-863c9c69e4a0"
      },
      "execution_count": null,
      "outputs": [
        {
          "output_type": "stream",
          "name": "stderr",
          "text": [
            "/usr/local/lib/python3.10/dist-packages/statsmodels/miscmodels/ordinal_model.py:419: FutureWarning: Support for multi-dimensional indexing (e.g. `obj[:, None]`) is deprecated and will be removed in a future version.  Convert to a numpy array before indexing instead.\n",
            "  xb = xb[:, None]\n"
          ]
        }
      ]
    },
    {
      "cell_type": "code",
      "source": [
        "#calculate accuracy and accuracy when off by one\n",
        "cm = confusion_matrix(Y_test['problem_rating_identifitication'], ID_class)\n",
        "print(cm)\n",
        "print(np.trace(cm) / float(np.sum(cm)))\n",
        "off_by_one = np.sum([cm[i, j] for i in range(6) for j in range(6) if abs(i - j) == 1])\n",
        "print((np.trace(cm)+off_by_one)/float(np.sum(cm)))"
      ],
      "metadata": {
        "id": "LyJ9LMvaRUbC",
        "colab": {
          "base_uri": "https://localhost:8080/"
        },
        "outputId": "780933cb-f055-4245-aecc-a835216a5d4c"
      },
      "execution_count": null,
      "outputs": [
        {
          "output_type": "stream",
          "name": "stdout",
          "text": [
            "[[   0    0    2    0    0    0]\n",
            " [   0 2367  287    0    0    2]\n",
            " [   0  233  613    0    0    1]\n",
            " [   0   37   83    0    0    5]\n",
            " [   0   14   23    0    0    1]\n",
            " [   0   15   67    0    0    2]]\n",
            "0.7947761194029851\n",
            "0.9557569296375267\n"
          ]
        }
      ]
    },
    {
      "cell_type": "code",
      "source": [
        "#make a null classifier for comparison\n",
        "null = confusion_matrix(Y_test['problem_rating_identifitication'], np.zeros(len(Y_test))+1)\n",
        "print(null)\n",
        "print(np.trace(null) / float(np.sum(null)))"
      ],
      "metadata": {
        "id": "T_rxXu4hWGiL",
        "colab": {
          "base_uri": "https://localhost:8080/"
        },
        "outputId": "76d060a0-a316-441a-ffa9-a5824dc0cc6f"
      },
      "execution_count": null,
      "outputs": [
        {
          "output_type": "stream",
          "name": "stdout",
          "text": [
            "[[   0    2    0    0    0    0]\n",
            " [   0 2656    0    0    0    0]\n",
            " [   0  847    0    0    0    0]\n",
            " [   0  125    0    0    0    0]\n",
            " [   0   38    0    0    0    0]\n",
            " [   0   84    0    0    0    0]]\n",
            "0.7078891257995735\n"
          ]
        }
      ]
    },
    {
      "cell_type": "markdown",
      "source": [
        "## Resolution"
      ],
      "metadata": {
        "id": "WoNLrNJEUSiI"
      }
    },
    {
      "cell_type": "code",
      "source": [
        "# Check shapes of X_train and Y_train\n",
        "print(X_train.shape)  # Output: (num_samples, num_features)\n",
        "print(Y_train['problem_rating_identifitication'].shape)  # Output: (num_samples,)"
      ],
      "metadata": {
        "colab": {
          "base_uri": "https://localhost:8080/"
        },
        "id": "n02dALoMWItB",
        "outputId": "514efbda-1a94-4b57-aa83-e7d520a34c47"
      },
      "execution_count": null,
      "outputs": [
        {
          "output_type": "stream",
          "name": "stdout",
          "text": [
            "(15008, 50)\n",
            "(15008,)\n"
          ]
        }
      ]
    },
    {
      "cell_type": "code",
      "source": [
        "#fit model\n",
        "Reso_mod = OrderedModel(Y_train['problem_rating_resolution'],X_train, dist = 'logit')\n",
        "Reso_prob = Reso_mod.fit(method='bfgs')"
      ],
      "metadata": {
        "id": "fpAwx6TOSnSI",
        "colab": {
          "base_uri": "https://localhost:8080/"
        },
        "outputId": "cf2a4bb1-b666-4354-f3f5-a077935e520a"
      },
      "execution_count": null,
      "outputs": [
        {
          "output_type": "stream",
          "name": "stdout",
          "text": [
            "Optimization terminated successfully.\n",
            "         Current function value: 0.657193\n",
            "         Iterations: 361\n",
            "         Function evaluations: 365\n",
            "         Gradient evaluations: 365\n"
          ]
        }
      ]
    },
    {
      "cell_type": "code",
      "source": [
        "#test model\n",
        "Reso_test = Reso_mod.predict(Reso_prob.params, exog = X_test)\n",
        "Reso_class = max_indices = np.argmax(Reso_test, axis=1)"
      ],
      "metadata": {
        "id": "ZUfTWCakUg2H",
        "colab": {
          "base_uri": "https://localhost:8080/"
        },
        "outputId": "98021c8c-bfd9-4846-ce80-bd4b495d425f"
      },
      "execution_count": null,
      "outputs": [
        {
          "output_type": "stream",
          "name": "stderr",
          "text": [
            "/usr/local/lib/python3.10/dist-packages/statsmodels/miscmodels/ordinal_model.py:419: FutureWarning: Support for multi-dimensional indexing (e.g. `obj[:, None]`) is deprecated and will be removed in a future version.  Convert to a numpy array before indexing instead.\n",
            "  xb = xb[:, None]\n"
          ]
        }
      ]
    },
    {
      "cell_type": "code",
      "source": [
        "#Calculate accuracy and accuracy off by one\n",
        "cm = confusion_matrix(Y_test['problem_rating_resolution'], Reso_class)\n",
        "print(\"predictions\")\n",
        "print(cm)\n",
        "print(np.trace(cm) / float(np.sum(cm)))\n",
        "off_by_one = np.sum([cm[i, j] for i in range(6) for j in range(6) if abs(i - j) == 1])\n",
        "print((np.trace(cm)+off_by_one)/float(np.sum(cm)))"
      ],
      "metadata": {
        "id": "6DVHFbg7Uxmq",
        "colab": {
          "base_uri": "https://localhost:8080/"
        },
        "outputId": "3d826343-88e0-48b5-ab6c-256ab5f4bb27"
      },
      "execution_count": null,
      "outputs": [
        {
          "output_type": "stream",
          "name": "stdout",
          "text": [
            "predictions\n",
            "[[   0    2    0    0    0    0]\n",
            " [   0 2898   17    2    0    3]\n",
            " [   0  387   44    4    0    7]\n",
            " [   0  190   41    4    0   16]\n",
            " [   0   60    4    2    0    2]\n",
            " [   0   40   20    4    0    5]]\n",
            "0.7865138592750534\n",
            "0.9077825159914712\n"
          ]
        }
      ]
    },
    {
      "cell_type": "code",
      "source": [
        "#make null predictor to compare against\n",
        "null = confusion_matrix(Y_test['problem_rating_resolution'], np.zeros(len(Y_test))+1)\n",
        "print(null)\n",
        "print(np.trace(null) / float(np.sum(null)))"
      ],
      "metadata": {
        "id": "RYcBjoE4VvJk",
        "colab": {
          "base_uri": "https://localhost:8080/"
        },
        "outputId": "432fdbd7-4c8f-43e1-c12f-4461a605fea0"
      },
      "execution_count": null,
      "outputs": [
        {
          "output_type": "stream",
          "name": "stdout",
          "text": [
            "[[   0    2    0    0    0    0]\n",
            " [   0 2920    0    0    0    0]\n",
            " [   0  442    0    0    0    0]\n",
            " [   0  251    0    0    0    0]\n",
            " [   0   68    0    0    0    0]\n",
            " [   0   69    0    0    0    0]]\n",
            "0.7782515991471215\n"
          ]
        }
      ]
    },
    {
      "cell_type": "markdown",
      "source": [
        "# Neural Networks"
      ],
      "metadata": {
        "id": "XCkJTDH8WSPo"
      }
    },
    {
      "cell_type": "code",
      "source": [
        "import tensorflow as tf\n",
        "from tensorflow import keras"
      ],
      "metadata": {
        "id": "C7BhqupC-nlm"
      },
      "execution_count": null,
      "outputs": []
    },
    {
      "cell_type": "code",
      "source": [
        "# Get validation set\n",
        "X_train, X_valid, Y_train, Y_valid = train_test_split(X_train, Y_train, test_size=0.2, random_state=43)"
      ],
      "metadata": {
        "id": "_5ypH8x3_A2p"
      },
      "execution_count": null,
      "outputs": []
    },
    {
      "cell_type": "markdown",
      "source": [
        "### ID"
      ],
      "metadata": {
        "id": "YhpCuId43zjD"
      }
    },
    {
      "cell_type": "code",
      "source": [
        "#set network structure\n",
        "keras.utils.set_random_seed(14)\n",
        "network = keras.models.Sequential([\n",
        "      keras.layers.Dense(256, activation = 'relu',input_shape=(50,)),\n",
        "      keras.layers.Dense(256, activation = \"relu\"),\n",
        "      keras.layers.Dropout(0.5),\n",
        "      keras.layers.Dense(128, activation = 'relu'),\n",
        "      keras.layers.Dropout(0.3),\n",
        "      keras.layers.Dense(6, activation=\"softmax\")\n",
        "])"
      ],
      "metadata": {
        "id": "IOF0H13_W7ZM"
      },
      "execution_count": null,
      "outputs": []
    },
    {
      "cell_type": "code",
      "source": [
        "#compile network\n",
        "network.compile(loss=\"sparse_categorical_crossentropy\",\n",
        "                optimizer=keras.optimizers.Adam(learning_rate=0.005),\n",
        "                metrics = [\"accuracy\"])"
      ],
      "metadata": {
        "id": "etsFXOOzXW_1"
      },
      "execution_count": null,
      "outputs": []
    },
    {
      "cell_type": "code",
      "source": [
        "#fit network\n",
        "history = network.fit(X_train, Y_train['problem_rating_identifitication'],\n",
        "                      epochs=10, batch_size=32,\n",
        "                      validation_data=(X_valid, Y_valid['problem_rating_identifitication']))"
      ],
      "metadata": {
        "id": "8mt6C8fwXbwm",
        "colab": {
          "base_uri": "https://localhost:8080/"
        },
        "outputId": "8a910091-e071-4ba4-9073-b3f2391993d8"
      },
      "execution_count": null,
      "outputs": [
        {
          "output_type": "stream",
          "name": "stdout",
          "text": [
            "Epoch 1/10\n",
            "376/376 [==============================] - 4s 7ms/step - loss: 1.3702 - accuracy: 0.6723 - val_loss: 0.7662 - val_accuracy: 0.7062\n",
            "Epoch 2/10\n",
            "376/376 [==============================] - 3s 7ms/step - loss: 0.7973 - accuracy: 0.7063 - val_loss: 0.7477 - val_accuracy: 0.7165\n",
            "Epoch 3/10\n",
            "376/376 [==============================] - 3s 8ms/step - loss: 0.7738 - accuracy: 0.7199 - val_loss: 0.7042 - val_accuracy: 0.7482\n",
            "Epoch 4/10\n",
            "376/376 [==============================] - 2s 6ms/step - loss: 0.7078 - accuracy: 0.7543 - val_loss: 0.5665 - val_accuracy: 0.7871\n",
            "Epoch 5/10\n",
            "376/376 [==============================] - 2s 7ms/step - loss: 0.6246 - accuracy: 0.7776 - val_loss: 0.5563 - val_accuracy: 0.7961\n",
            "Epoch 6/10\n",
            "376/376 [==============================] - 2s 7ms/step - loss: 0.6344 - accuracy: 0.7744 - val_loss: 0.5619 - val_accuracy: 0.8085\n",
            "Epoch 7/10\n",
            "376/376 [==============================] - 3s 7ms/step - loss: 0.6070 - accuracy: 0.7840 - val_loss: 0.5781 - val_accuracy: 0.7868\n",
            "Epoch 8/10\n",
            "376/376 [==============================] - 3s 9ms/step - loss: 0.6676 - accuracy: 0.7678 - val_loss: 0.5637 - val_accuracy: 0.8035\n",
            "Epoch 9/10\n",
            "376/376 [==============================] - 2s 6ms/step - loss: 0.5866 - accuracy: 0.7947 - val_loss: 0.5465 - val_accuracy: 0.8108\n",
            "Epoch 10/10\n",
            "376/376 [==============================] - 2s 6ms/step - loss: 0.5916 - accuracy: 0.7972 - val_loss: 0.5512 - val_accuracy: 0.8025\n"
          ]
        }
      ]
    },
    {
      "cell_type": "code",
      "source": [
        "#look at accuracy of network\n",
        "import matplotlib.pyplot as plt\n",
        "plt.plot(history.history[\"accuracy\"], label=\"Training\")\n",
        "plt.plot(history.history[\"val_accuracy\"], label = \"Validation\")\n",
        "plt.xlabel(\"Epoch\")\n",
        "plt.ylabel(\"Accuracy\")\n",
        "plt.legend()\n",
        "plt.show()"
      ],
      "metadata": {
        "id": "TcXbUpAMYUzJ",
        "colab": {
          "base_uri": "https://localhost:8080/",
          "height": 449
        },
        "outputId": "1c89c5f4-42ce-4612-adeb-d9e9104e7f2b"
      },
      "execution_count": null,
      "outputs": [
        {
          "output_type": "display_data",
          "data": {
            "text/plain": [
              "<Figure size 640x480 with 1 Axes>"
            ],
            "image/png": "[encoded data removed]"
          },
          "metadata": {}
        }
      ]
    },
    {
      "cell_type": "code",
      "source": [
        "#look at class predictions to check for spread\n",
        "preds = np.argmax(network.predict(X_test), axis = 1)\n",
        "vals, counts = np.unique(preds, return_counts = True)\n",
        "print(vals)\n",
        "print(counts)"
      ],
      "metadata": {
        "colab": {
          "base_uri": "https://localhost:8080/"
        },
        "id": "-_P0Z41zf-FK",
        "outputId": "c6514b1d-2864-4e71-a9c7-5a210f59a492"
      },
      "execution_count": null,
      "outputs": [
        {
          "output_type": "stream",
          "name": "stdout",
          "text": [
            "118/118 [==============================] - 0s 2ms/step\n",
            "[0 1 2 5]\n",
            "[   3 2554 1151   44]\n"
          ]
        }
      ]
    },
    {
      "cell_type": "code",
      "source": [
        "#calculate prediction accuracy and accuracy off by one\n",
        "cm = confusion_matrix(Y_test['problem_rating_identifitication'], preds)\n",
        "print(\"predictions\")\n",
        "print(cm)\n",
        "print(np.trace(cm) / float(np.sum(cm)))\n",
        "off_by_one = np.sum([cm[i, j] for i in range(6) for j in range(6) if abs(i - j) == 1])\n",
        "print((np.trace(cm)+off_by_one)/float(np.sum(cm)))"
      ],
      "metadata": {
        "id": "ZTkBEOyajp4J",
        "colab": {
          "base_uri": "https://localhost:8080/"
        },
        "outputId": "c3f46c16-f1b0-48fd-cc74-82dc47766456"
      },
      "execution_count": null,
      "outputs": [
        {
          "output_type": "stream",
          "name": "stdout",
          "text": [
            "predictions\n",
            "[[   2    0    0    0    0    0]\n",
            " [   1 2311  344    0    0    0]\n",
            " [   0  184  662    0    0    1]\n",
            " [   0   36   88    0    0    1]\n",
            " [   0   12   25    0    0    1]\n",
            " [   0   11   32    0    0   41]]\n",
            "0.8038379530916845\n",
            "0.9685501066098081\n"
          ]
        }
      ]
    },
    {
      "cell_type": "code",
      "source": [],
      "metadata": {
        "id": "kGpfxGaNp8nx"
      },
      "execution_count": null,
      "outputs": []
    },
    {
      "cell_type": "markdown",
      "source": [
        "### Resolution"
      ],
      "metadata": {
        "id": "1YN1SMhd31jD"
      }
    },
    {
      "cell_type": "code",
      "source": [
        "#set network stucture\n",
        "keras.utils.set_random_seed(2)\n",
        "network = keras.models.Sequential([\n",
        "      keras.layers.Dense(256, activation = 'relu',input_shape=(50,)),\n",
        "      keras.layers.Dense(256, activation = \"relu\"),\n",
        "      keras.layers.Dropout(0.5),\n",
        "      keras.layers.Dense(128, activation = 'relu'),\n",
        "      keras.layers.Dropout(0.3),\n",
        "      keras.layers.Dense(6, activation=\"softmax\")\n",
        "])"
      ],
      "metadata": {
        "id": "ThpaDTYl33qF"
      },
      "execution_count": null,
      "outputs": []
    },
    {
      "cell_type": "code",
      "source": [
        "#compile network\n",
        "network.compile(loss=\"sparse_categorical_crossentropy\",\n",
        "                optimizer=keras.optimizers.Adam(learning_rate=0.005),\n",
        "                metrics = [\"accuracy\"]) ##errors,algorithm,accuracy"
      ],
      "metadata": {
        "id": "XkYGTmgF39oo"
      },
      "execution_count": null,
      "outputs": []
    },
    {
      "cell_type": "code",
      "source": [
        "#fit network\n",
        "history = network.fit(X_train, Y_train['problem_rating_resolution'],\n",
        "                      epochs=15, batch_size=32,\n",
        "                      validation_data=(X_valid, Y_valid['problem_rating_resolution']))"
      ],
      "metadata": {
        "id": "M2nO8K3b4ANR",
        "colab": {
          "base_uri": "https://localhost:8080/"
        },
        "outputId": "9d05f833-da66-4778-b2e1-2a82e8efd9c3"
      },
      "execution_count": null,
      "outputs": [
        {
          "output_type": "stream",
          "name": "stdout",
          "text": [
            "Epoch 1/15\n",
            "376/376 [==============================] - 4s 9ms/step - loss: 1.3339 - accuracy: 0.7409 - val_loss: 0.7409 - val_accuracy: 0.7831\n",
            "Epoch 2/15\n",
            "376/376 [==============================] - 2s 6ms/step - loss: 0.7575 - accuracy: 0.7724 - val_loss: 0.7165 - val_accuracy: 0.7868\n",
            "Epoch 3/15\n",
            "376/376 [==============================] - 2s 7ms/step - loss: 0.7577 - accuracy: 0.7738 - val_loss: 0.7157 - val_accuracy: 0.7875\n",
            "Epoch 4/15\n",
            "376/376 [==============================] - 2s 7ms/step - loss: 0.7534 - accuracy: 0.7746 - val_loss: 0.7176 - val_accuracy: 0.7868\n",
            "Epoch 5/15\n",
            "376/376 [==============================] - 3s 7ms/step - loss: 0.7614 - accuracy: 0.7741 - val_loss: 0.6889 - val_accuracy: 0.7875\n",
            "Epoch 6/15\n",
            "376/376 [==============================] - 3s 9ms/step - loss: 0.7656 - accuracy: 0.7739 - val_loss: 0.7139 - val_accuracy: 0.7871\n",
            "Epoch 7/15\n",
            "376/376 [==============================] - 2s 6ms/step - loss: 0.7474 - accuracy: 0.7756 - val_loss: 0.7231 - val_accuracy: 0.7868\n",
            "Epoch 8/15\n",
            "376/376 [==============================] - 2s 6ms/step - loss: 0.7514 - accuracy: 0.7759 - val_loss: 0.7182 - val_accuracy: 0.7868\n",
            "Epoch 9/15\n",
            "376/376 [==============================] - 2s 6ms/step - loss: 0.7288 - accuracy: 0.7774 - val_loss: 0.7001 - val_accuracy: 0.7868\n",
            "Epoch 10/15\n",
            "376/376 [==============================] - 2s 6ms/step - loss: 0.6835 - accuracy: 0.7727 - val_loss: 0.6118 - val_accuracy: 0.7871\n",
            "Epoch 11/15\n",
            "376/376 [==============================] - 3s 8ms/step - loss: 0.6567 - accuracy: 0.7770 - val_loss: 0.6217 - val_accuracy: 0.7868\n",
            "Epoch 12/15\n",
            "376/376 [==============================] - 3s 7ms/step - loss: 0.6751 - accuracy: 0.7741 - val_loss: 0.6414 - val_accuracy: 0.7875\n",
            "Epoch 13/15\n",
            "376/376 [==============================] - 2s 6ms/step - loss: 0.6456 - accuracy: 0.7775 - val_loss: 0.6542 - val_accuracy: 0.7858\n",
            "Epoch 14/15\n",
            "376/376 [==============================] - 2s 6ms/step - loss: 0.6505 - accuracy: 0.7762 - val_loss: 0.6284 - val_accuracy: 0.7851\n",
            "Epoch 15/15\n",
            "376/376 [==============================] - 2s 6ms/step - loss: 0.6461 - accuracy: 0.7764 - val_loss: 0.6489 - val_accuracy: 0.7861\n"
          ]
        }
      ]
    },
    {
      "cell_type": "code",
      "source": [
        "#plot accuracies to see trends\n",
        "plt.plot(history.history[\"accuracy\"], label=\"Training\")\n",
        "plt.plot(history.history[\"val_accuracy\"], label = \"Validation\")\n",
        "plt.xlabel(\"Epoch\")\n",
        "plt.ylabel(\"Accuracy\")\n",
        "plt.legend()\n",
        "plt.show()"
      ],
      "metadata": {
        "id": "G9giBlg84GF8",
        "colab": {
          "base_uri": "https://localhost:8080/",
          "height": 449
        },
        "outputId": "25757b73-ce59-431c-fcd1-e5853c2ff525"
      },
      "execution_count": null,
      "outputs": [
        {
          "output_type": "display_data",
          "data": {
            "text/plain": [
              "<Figure size 640x480 with 1 Axes>"
            ],
            "image/png": "[encoded data removed]"
          },
          "metadata": {}
        }
      ]
    },
    {
      "cell_type": "code",
      "source": [
        "#check spread\n",
        "preds = np.argmax(network.predict(X_test), axis = 1)\n",
        "vals, counts = np.unique(preds, return_counts = True)\n",
        "print(vals)\n",
        "print(counts)"
      ],
      "metadata": {
        "id": "3GoSRv5X4Gqg",
        "colab": {
          "base_uri": "https://localhost:8080/"
        },
        "outputId": "fe9983e1-dea5-4bfe-c2f1-1632e07bbc91"
      },
      "execution_count": null,
      "outputs": [
        {
          "output_type": "stream",
          "name": "stdout",
          "text": [
            "118/118 [==============================] - 1s 3ms/step\n",
            "[0 1 2 5]\n",
            "[   3 3686    5   58]\n"
          ]
        }
      ]
    },
    {
      "cell_type": "code",
      "source": [
        "#calculate prediction accuracy and accuracy off by one\n",
        "cm = confusion_matrix(Y_test['problem_rating_resolution'], preds)\n",
        "print(\"predictions\")\n",
        "print(cm)\n",
        "print(np.trace(cm) / float(np.sum(cm)))\n",
        "off_by_one = np.sum([cm[i, j] for i in range(6) for j in range(6) if abs(i - j) == 1])\n",
        "print((np.trace(cm)+off_by_one)/float(np.sum(cm)))"
      ],
      "metadata": {
        "id": "Sw0Mn9eE4I1H",
        "colab": {
          "base_uri": "https://localhost:8080/"
        },
        "outputId": "f6d15a58-ea79-445b-9d5c-9bf00b8949ba"
      },
      "execution_count": null,
      "outputs": [
        {
          "output_type": "stream",
          "name": "stdout",
          "text": [
            "predictions\n",
            "[[   2    0    0    0    0    0]\n",
            " [   1 2917    1    0    0    1]\n",
            " [   0  436    3    0    0    3]\n",
            " [   0  249    0    0    0    2]\n",
            " [   0   66    0    0    0    2]\n",
            " [   0   18    1    0    0   50]]\n",
            "0.7921108742004265\n",
            "0.9093816631130064\n"
          ]
        }
      ]
    }
  ]
}